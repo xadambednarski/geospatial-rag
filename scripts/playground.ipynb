{
 "cells": [
  {
   "cell_type": "code",
   "execution_count": 20,
   "metadata": {},
   "outputs": [],
   "source": [
    "import json\n",
    "import requests\n",
    "import pandas as pd\n",
    "from langchain.prompts import PromptTemplate\n",
    "from geopy.distance import geodesic\n",
    "from langchain_openai import ChatOpenAI\n",
    "import re\n",
    "from langchain_core.prompts import ChatPromptTemplate\n",
    "from langchain_core.output_parsers import StrOutputParser\n",
    "from langchain_core.prompts import MessagesPlaceholder\n",
    "from langchain_core.tools import tool"
   ]
  },
  {
   "cell_type": "code",
   "execution_count": 15,
   "metadata": {},
   "outputs": [],
   "source": [
    "NOMINATIM_API = \"https://nominatim.openstreetmap.org/search\"\n",
    "ROUTING_API = \"https://routing.openstreetmap.de/routed-foot/route/v1/driving/\"\n",
    "HEADERS = {\"User-Agent\": \"GeoSpatialRAG/1.0\"}"
   ]
  },
  {
   "cell_type": "code",
   "execution_count": 12,
   "metadata": {},
   "outputs": [],
   "source": [
    "@tool\n",
    "def get_user_location(user_prompt: str) -> str:\n",
    "    \"\"\"\n",
    "    Extract user location from user prompt using regex\n",
    "\n",
    "    Args:\n",
    "        user_prompt (str): User prompt\n",
    "    \"\"\"\n",
    "    location = re.search(r\"My location: (.*)\", user_prompt)\n",
    "\n",
    "    return location.group(1)\n",
    "\n",
    "@tool\n",
    "def get_distance_between_locations(location1: dict, location2: dict):\n",
    "    \"\"\"\n",
    "    Get distance between two locations defined by their coordinates (longtitude, latitude) in meters\n",
    "\n",
    "    Args:\n",
    "        location1 (dict): Location 1\n",
    "        location2 (dict): Location 2\n",
    "    \"\"\"\n",
    "    location1 = (float(location1[\"lat\"]), float(location1[\"lon\"]))\n",
    "    location2 = (float(location2[\"lat\"]), float(location2[\"lon\"]))\n",
    "    \n",
    "    distance = geodesic(location1, location2).meters\n",
    "    \n",
    "    return distance\n",
    "\n",
    "@tool\n",
    "def get_route_between_locations(location1: dict, location2: dict):\n",
    "    \"\"\"\n",
    "    Get route between two locations defined by their coordinates (longtitude, latitude).\n",
    "    Route is defined as a list of steps to take to get from location1 to location2.\n",
    "\n",
    "    Args:\n",
    "        location1 (dict): Location 1\n",
    "        location2 (dict): Location 2\n",
    "    \"\"\"\n",
    "    if location1 and location2:\n",
    "        url = f\"{ROUTING_API}{location1['lon']},{location1['lat']};{location2['lon']},{location2['lat']}?overview=full\"\n",
    "        response = requests.get(url, headers=HEADERS)\n",
    "        response.raise_for_status()\n",
    "        return response.json()\n",
    "    return None"
   ]
  },
  {
   "cell_type": "code",
   "execution_count": null,
   "metadata": {},
   "outputs": [],
   "source": [
    "tools = [get_user_location, get_distance_between_locations, get_route_between_locations]\n",
    "\n",
    "llm = ChatOpenAI(model=\"gpt-3.5-turbo\")\n",
    "llm_with_tools = llm.bind_tools(tools)"
   ]
  }
 ],
 "metadata": {
  "kernelspec": {
   "display_name": ".venv",
   "language": "python",
   "name": "python3"
  },
  "language_info": {
   "codemirror_mode": {
    "name": "ipython",
    "version": 3
   },
   "file_extension": ".py",
   "mimetype": "text/x-python",
   "name": "python",
   "nbconvert_exporter": "python",
   "pygments_lexer": "ipython3",
   "version": "3.9.5"
  }
 },
 "nbformat": 4,
 "nbformat_minor": 2
}
