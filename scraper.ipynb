{
 "cells": [
  {
   "cell_type": "code",
   "execution_count": 2,
   "metadata": {},
   "outputs": [],
   "source": [
    "from bs4 import BeautifulSoup\n",
    "import requests\n",
    "from selenium import webdriver\n",
    "import re\n",
    "import json"
   ]
  },
  {
   "cell_type": "code",
   "execution_count": 3,
   "metadata": {},
   "outputs": [],
   "source": [
    "# only letters and numbers\n",
    "letters_numbers_pat = re.compile(\"[^a-zA-Z0-9ąćęłńóśźżĄĆĘŁŃÓŚŹŻ]+\")\n",
    "\n",
    "# only letters\n",
    "letters_pat = re.compile(\"[^a-zA-ZąćęłńóśźżĄĆĘŁŃÓŚŹŻ]+\")\n",
    "\n",
    "# only numbers\n",
    "numbers_pat = re.compile(\"[^0-9]+\")"
   ]
  },
  {
   "cell_type": "code",
   "execution_count": 4,
   "metadata": {},
   "outputs": [],
   "source": [
    "url = \"https://booksy.com/pl-pl/s/13750_wroclaw?businessesPage={page_num}\"\n",
    "base_url = \"https://booksy.com\""
   ]
  },
  {
   "cell_type": "code",
   "execution_count": 5,
   "metadata": {},
   "outputs": [],
   "source": [
    "def write_json(data):\n",
    "    with open(\"./data/booksy_wroclaw.json\", \"w\", encoding=\"utf-8\") as f:\n",
    "        json.dump(data, f, indent=4, ensure_ascii=False)\n",
    "\n",
    "\n",
    "def open_json(file: str):\n",
    "    with open(file, \"r\", encoding=\"utf-8\") as f:\n",
    "        return json.load(f)"
   ]
  },
  {
   "cell_type": "code",
   "execution_count": null,
   "metadata": {},
   "outputs": [],
   "source": [
    "# options = webdriver.ChromeOptions()\n",
    "# options.add_argument(\"--headless\")\n",
    "# driver = webdriver.Chrome(options=options)"
   ]
  },
  {
   "cell_type": "code",
   "execution_count": null,
   "metadata": {},
   "outputs": [],
   "source": [
    "data = []\n",
    "idx = 0\n",
    "\n",
    "for page_num in range(1, 160):\n",
    "\n",
    "    try:\n",
    "        page_url = url.format(page_num=page_num)\n",
    "        response = requests.get(page_url)\n",
    "        bs = BeautifulSoup(response.text, \"html.parser\")\n",
    "\n",
    "        businesses = bs.find_all(\n",
    "            class_=\"purify_jFNrjJsLiLW+6sHFuYDiWA== purify_gvbw+GpawACpHIzUwLBo8A== purify_CA-Z3uLarGK6crMd3kMgRw==\"\n",
    "        )\n",
    "\n",
    "        for business in businesses:\n",
    "            business_dict = {}\n",
    "            business_dict[\"id\"] = idx\n",
    "\n",
    "            name = bs.find(class_=\"purify_3UeKw5MV+NerIrQNs8HSXA== purify_IbX1Bb-sl2ffhqyi9xUH1A==\")\n",
    "            clean_name = name.text.replace(\"\\n\", \"\").replace(\"  \", \" \").strip()\n",
    "            business_dict[\"name\"] = clean_name\n",
    "\n",
    "            href = business.find(\"a\")[\"href\"]\n",
    "            business_url = base_url + href\n",
    "            response = requests.get(business_url)\n",
    "            bs = BeautifulSoup(response.text, \"html.parser\")\n",
    "\n",
    "            address_parent_div = (\n",
    "                bs.find(\n",
    "                    class_=\"purify_prm7MfDXczhTZvcY5KwOuA== purify_Sardy6hfiet162IZ2pYFPA== purify_m9mNOPjpHD0tNTW6GC+hEw==\"\n",
    "                )\n",
    "                .text.replace(\"\\n\", \"\")\n",
    "                .strip()\n",
    "            )\n",
    "            address = address_parent_div.split(\"div\")[0].replace(\"\\n\", \"\").strip()\n",
    "            business_dict[\"address\"] = address\n",
    "\n",
    "            rating = business.find(\n",
    "                class_=\"purify_aVm421MES2COps1la9BuOQ== purify_3dZ+zycQyUtqfDxWbTGTlw== purify_kq4BZr36QXoLgkAnN95TWw==\"\n",
    "            ).text.strip()\n",
    "            business_dict[\"rating\"] = rating\n",
    "            \n",
    "            services = bs.find_all(class_=\"purify_TDNkQVqTWE1e9+GIIAxpIA==\")\n",
    "            prices = bs.find_all(\n",
    "                class_=\"purify_s8fylQf1Z9K4N9kwPLHJaA== purify_IbX1Bb-sl2ffhqyi9xUH1A== purify_f9tJlQGTtqZe8Hg0f7oQhg==\"\n",
    "            )\n",
    "            business_dict[\"services\"] = []\n",
    "            for service, price in zip(services, prices):\n",
    "                try:\n",
    "                    service_dict = {}\n",
    "                    service_clean = (\n",
    "                        letters_pat.sub(\" \", service.text)\n",
    "                        .replace(\"\\n\", \"\")\n",
    "                        .replace(\"  \", \" \")\n",
    "                        .strip()\n",
    "                        .lower()\n",
    "                    )\n",
    "                    price_clean = (\n",
    "                        price.text.replace(\"\\n\", \"\").replace(\"  \", \" \").replace(\"\\xa0\", \" \").strip()\n",
    "                    )\n",
    "\n",
    "                    service_dict[\"price\"] = price_clean\n",
    "                    service_dict[\"name\"] = service_clean\n",
    "                    business_dict[\"services\"].append(service_dict)\n",
    "                except Exception as e:\n",
    "                    print(f\"Error: {e}\")\n",
    "                    continue\n",
    "\n",
    "            idx += 1\n",
    "\n",
    "            # try:\n",
    "            #     driver.get(page_url)\n",
    "            #     html = driver.page_source\n",
    "            #     soup = BeautifulSoup(html, \"html.parser\")\n",
    "            #     soup_str = str(soup)\n",
    "            #     description = soup_str[\n",
    "            #         soup_str.find(\"description:\") : soup_str.find(\",business_categories\")\n",
    "            #     ]\n",
    "            #     business_dict[\"description\"] = description\n",
    "            # except Exception as e:\n",
    "            #     print(f\"Error: {e}\")\n",
    "            #     business_dict[\"description\"] = None\n",
    "\n",
    "            data.append(business_dict)\n",
    "\n",
    "    except Exception as e:\n",
    "        print(f\"Error: {e}\")\n",
    "        continue\n",
    "\n",
    "write_json(data)"
   ]
  }
 ],
 "metadata": {
  "kernelspec": {
   "display_name": ".venv",
   "language": "python",
   "name": "python3"
  },
  "language_info": {
   "codemirror_mode": {
    "name": "ipython",
    "version": 3
   },
   "file_extension": ".py",
   "mimetype": "text/x-python",
   "name": "python",
   "nbconvert_exporter": "python",
   "pygments_lexer": "ipython3",
   "version": "3.9.5"
  }
 },
 "nbformat": 4,
 "nbformat_minor": 2
}
