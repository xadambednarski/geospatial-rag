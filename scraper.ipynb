{
 "cells": [
  {
   "cell_type": "code",
   "execution_count": 75,
   "metadata": {},
   "outputs": [],
   "source": [
    "from selenium import webdriver\n",
    "from selenium.webdriver.common.by import By\n",
    "from selenium.webdriver.common.action_chains import ActionChains"
   ]
  },
  {
   "cell_type": "code",
   "execution_count": 69,
   "metadata": {},
   "outputs": [],
   "source": [
    "url = \"https://booksy.com/pl-pl/s/1_polska?query=wroc%C5%82aw\""
   ]
  },
  {
   "cell_type": "code",
   "execution_count": 82,
   "metadata": {},
   "outputs": [
    {
     "name": "stdout",
     "output_type": "stream",
     "text": [
      "Dermikos depilacja laserowa Kraków Wlelicka 72, 30-552, Kraków, Podgórze\n"
     ]
    }
   ],
   "source": [
    "options = webdriver.ChromeOptions()\n",
    "# options.add_argument(\"--headless\")\n",
    "driver = webdriver.Chrome(options=options)\n",
    "actions = ActionChains(driver)\n",
    "driver.get(url)\n",
    "\n",
    "# cookies accept\n",
    "driver.find_element(By.ID, 'CybotCookiebotDialogBodyLevelButtonLevelOptinAllowAll').click()\n",
    "\n",
    "search_results = driver.find_elements(By.ID, 'search-results')\n",
    "# ul list \n",
    "ul = search_results[0].find_element(By.TAG_NAME, 'ul')\n",
    "# li elements\n",
    "lis = ul.find_elements(By.TAG_NAME, 'li')\n",
    "\n",
    "def get_business(li):\n",
    "    name = li.find_element(By.CSS_SELECTOR, \"h2[data-testid='business-name']\")\n",
    "    return name\n",
    "\n",
    "for li in lis:\n",
    "    if not li.is_displayed():\n",
    "        # scroll to element + 500px\n",
    "        actions.move_to_element(li).perform()\n",
    "    business = get_business(li)\n",
    "    name = business.text\n",
    "    business.click()\n",
    "    \n",
    "    driver.implicitly_wait(5)\n",
    "    \n",
    "    # get business details\n",
    "    business_name = driver.find_element(By.CSS_SELECTOR, \"h1[data-testid='business-name']\")\n",
    "    # address is next element after business name\n",
    "    address = business_name.find_element(By.XPATH, \"following-sibling::*\").text\n",
    "    \n",
    "    services_list = driver.find_elements(By.CSS_SELECTOR, \"ul[data-testid='business-services-list']\")\n",
    "    \n",
    "    for services in services_list:\n",
    "        services = services.find_elements(By.TAG_NAME, 'li')\n",
    "        for service in services:\n",
    "            service_div = service.find_element(By.CSS_SELECTOR, \"div[data-testid='services-list-treatments-services-list-item']\")\n",
    "            service_name = service_div.find_element(By.CSS_SELECTOR, \"div[data-testid='services-list-treatments-services-list-item-name']\").text"
   ]
  }
 ],
 "metadata": {
  "kernelspec": {
   "display_name": ".venv",
   "language": "python",
   "name": "python3"
  },
  "language_info": {
   "codemirror_mode": {
    "name": "ipython",
    "version": 3
   },
   "file_extension": ".py",
   "mimetype": "text/x-python",
   "name": "python",
   "nbconvert_exporter": "python",
   "pygments_lexer": "ipython3",
   "version": "3.9.5"
  }
 },
 "nbformat": 4,
 "nbformat_minor": 2
}
